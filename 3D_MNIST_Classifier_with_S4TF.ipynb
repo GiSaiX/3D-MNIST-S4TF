{
  "nbformat": 4,
  "nbformat_minor": 0,
  "metadata": {
    "colab": {
      "name": "3D MNIST Classifier with S4TF.ipynb",
      "provenance": [],
      "collapsed_sections": [],
      "toc_visible": true,
      "machine_shape": "hm",
      "include_colab_link": true
    },
    "kernelspec": {
      "name": "swift",
      "display_name": "Swift"
    },
    "accelerator": "GPU"
  },
  "cells": [
    {
      "cell_type": "markdown",
      "metadata": {
        "id": "view-in-github",
        "colab_type": "text"
      },
      "source": [
        "<a href=\"https://colab.research.google.com/github/lukereichold/3D-MNIST-S4TF/blob/master/3D_MNIST_Classifier_with_S4TF.ipynb\" target=\"_parent\"><img src=\"https://colab.research.google.com/assets/colab-badge.svg\" alt=\"Open In Colab\"/></a>"
      ]
    },
    {
      "cell_type": "markdown",
      "metadata": {
        "id": "sh3DhAz5BCuv",
        "colab_type": "text"
      },
      "source": [
        "## ⚙️ Install Dependencies"
      ]
    },
    {
      "cell_type": "code",
      "metadata": {
        "id": "qS0u3oWyrHBy",
        "colab_type": "code",
        "colab": {
          "base_uri": "https://localhost:8080/",
          "height": 51
        },
        "outputId": "1e8f5b23-0fa5-4357-bf6b-84b816e44fa2"
      },
      "source": [
        "import TensorFlow\n",
        "import Foundation\n",
        "\n",
        "#if canImport(PythonKit)\n",
        "    import PythonKit\n",
        "#else\n",
        "    import Python\n",
        "#endif\n",
        "print(Python.version)"
      ],
      "execution_count": 1,
      "outputs": [
        {
          "output_type": "stream",
          "text": [
            "3.6.9 (default, Nov  7 2019, 10:44:02) \r\n",
            "[GCC 8.3.0]\r\n"
          ],
          "name": "stdout"
        }
      ]
    },
    {
      "cell_type": "code",
      "metadata": {
        "id": "O-zbuX8hAr7W",
        "colab_type": "code",
        "colab": {}
      },
      "source": [
        "let h5py = Python.import(\"h5py\")\n",
        "let np = Python.import(\"numpy\")\n",
        "let os = Python.import(\"os\")\n",
        "let plt = Python.import(\"matplotlib.pyplot\")\n",
        "let cm = Python.import(\"matplotlib.cm\")"
      ],
      "execution_count": 0,
      "outputs": []
    },
    {
      "cell_type": "code",
      "metadata": {
        "id": "8WrzILOqrHGR",
        "colab_type": "code",
        "outputId": "05e74dbb-d1ce-4d28-d3f6-9f2dd2abc5cd",
        "colab": {
          "base_uri": "https://localhost:8080/",
          "height": 34
        }
      },
      "source": [
        "%include \"EnableIPythonDisplay.swift\"\n",
        "IPythonDisplay.shell.enable_matplotlib(\"inline\")"
      ],
      "execution_count": 3,
      "outputs": [
        {
          "output_type": "execute_result",
          "data": {
            "text/plain": [
              "('inline', 'module://ipykernel.pylab.backend_inline')\n"
            ]
          },
          "metadata": {
            "tags": []
          },
          "execution_count": 3
        }
      ]
    },
    {
      "cell_type": "markdown",
      "metadata": {
        "id": "mUOSyO8nk3WZ",
        "colab_type": "text"
      },
      "source": [
        "## ⬇ Fetch Dataset\n",
        "3D Point Vectors fetched initially from https://www.kaggle.com/daavoo/3d-mnist/data (29 Mb)"
      ]
    },
    {
      "cell_type": "code",
      "metadata": {
        "id": "d_FVkxV98SYd",
        "colab_type": "code",
        "outputId": "2c26950a-0ab1-415d-ba17-baa3b534c55b",
        "colab": {
          "base_uri": "https://localhost:8080/",
          "height": 462
        }
      },
      "source": [
        "os.system(\"wget https://www.dropbox.com/s/mvre9rojnjp2a36/full_dataset_vectors.h5\")"
      ],
      "execution_count": 4,
      "outputs": [
        {
          "output_type": "stream",
          "text": [
            "--2020-03-27 19:40:55--  https://www.dropbox.com/s/mvre9rojnjp2a36/full_dataset_vectors.h5\r\n",
            "Resolving www.dropbox.com (www.dropbox.com)... 162.125.82.1, 2620:100:6032:1::a27d:5201\r\n",
            "Connecting to www.dropbox.com (www.dropbox.com)|162.125.82.1|:443... connected.\n",
            "HTTP request sent, awaiting response... 301 Moved Permanently\n",
            "Location: /s/raw/mvre9rojnjp2a36/full_dataset_vectors.h5 [following]\n",
            "--2020-03-27 19:40:56--  https://www.dropbox.com/s/raw/mvre9rojnjp2a36/full_dataset_vectors.h5\n",
            "Reusing existing connection to www.dropbox.com:443.\n",
            "HTTP request sent, awaiting response... 302 Found\n",
            "Location: https://uc7c21340e97f56af25c34e47592.dl.dropboxusercontent.com/cd/0/inline/A0slMNm65JRjGTBN0j5isS6CqZRUUTttHAOzsBf5cxrM1x22EX79WWbJ68PT1G29w6DgEUejbPgOKywNv5pB32xvlIqYm-9t4EJZjglFkfJoJxdmlpoBVENZxuuYOlfKF8w/file# [following]\n",
            "--2020-03-27 19:40:56--  https://uc7c21340e97f56af25c34e47592.dl.dropboxusercontent.com/cd/0/inline/A0slMNm65JRjGTBN0j5isS6CqZRUUTttHAOzsBf5cxrM1x22EX79WWbJ68PT1G29w6DgEUejbPgOKywNv5pB32xvlIqYm-9t4EJZjglFkfJoJxdmlpoBVENZxuuYOlfKF8w/file\n",
            "Resolving uc7c21340e97f56af25c34e47592.dl.dropboxusercontent.com (uc7c21340e97f56af25c34e47592.dl.dropboxusercontent.com)... 162.125.82.6, 2620:100:6032:6::a27d:5206\n",
            "Connecting to uc7c21340e97f56af25c34e47592.dl.dropboxusercontent.com (uc7c21340e97f56af25c34e47592.dl.dropboxusercontent.com)|162.125.82.6|:443... connected.\n",
            "HTTP request sent, awaiting response... 302 FOUND\n",
            "Location: /cd/0/inline2/A0sJCg-PdSnslbsr6GWHt0VvtZZvJRnLc4HgUaLQnZ5IQ0LHrhWwi-aQ0z25M96JP1bAK-R_qDl-E4m5jXW7P-E-V3VquPatq6QpXccpr-OuWe4ZZOwE9NMK__0S1mlx72kxP3tM3d4p0LPkwv8AupMgv583L0ds2voPAjWSXJ6Fy4xhu86DKMBOehb0rP8nGQDnAcw9jdTAI-OwqIMmLJaKJ7LHMkRvulPcWQT0-R4xRx_-C4qX8gadC6vahklLz5xWmL93fFkNjwMEDb5lI09JDQEaxjkLrJU7hmLpvXMJHPxp-Wvci6-w4lXUK5Q1HO_ncco4PhbTRauBoDvu5y01C7tBR-hzgeqDuOTke6YVLA/file [following]\n",
            "--2020-03-27 19:40:57--  https://uc7c21340e97f56af25c34e47592.dl.dropboxusercontent.com/cd/0/inline2/A0sJCg-PdSnslbsr6GWHt0VvtZZvJRnLc4HgUaLQnZ5IQ0LHrhWwi-aQ0z25M96JP1bAK-R_qDl-E4m5jXW7P-E-V3VquPatq6QpXccpr-OuWe4ZZOwE9NMK__0S1mlx72kxP3tM3d4p0LPkwv8AupMgv583L0ds2voPAjWSXJ6Fy4xhu86DKMBOehb0rP8nGQDnAcw9jdTAI-OwqIMmLJaKJ7LHMkRvulPcWQT0-R4xRx_-C4qX8gadC6vahklLz5xWmL93fFkNjwMEDb5lI09JDQEaxjkLrJU7hmLpvXMJHPxp-Wvci6-w4lXUK5Q1HO_ncco4PhbTRauBoDvu5y01C7tBR-hzgeqDuOTke6YVLA/file\n",
            "Reusing existing connection to uc7c21340e97f56af25c34e47592.dl.dropboxusercontent.com:443.\n",
            "HTTP request sent, awaiting response... 200 OK\n",
            "Length: 30582936 (29M) [application/octet-stream]\n",
            "Saving to: ‘full_dataset_vectors.h5’\n",
            "\n",
            "full_dataset_vector 100%[===================>]  29.17M  4.10MB/s    in 8.0s    \n",
            "\n",
            "2020-03-27 19:41:06 (3.65 MB/s) - ‘full_dataset_vectors.h5’ saved [30582936/30582936]\n",
            "\n"
          ],
          "name": "stdout"
        },
        {
          "output_type": "execute_result",
          "data": {
            "text/plain": [
              "0\n"
            ]
          },
          "metadata": {
            "tags": []
          },
          "execution_count": 4
        }
      ]
    },
    {
      "cell_type": "code",
      "metadata": {
        "id": "VZeMCfywmBV4",
        "colab_type": "code",
        "colab": {
          "base_uri": "https://localhost:8080/",
          "height": 34
        },
        "outputId": "64d194c5-ffe3-4259-977c-326c235faaf7"
      },
      "source": [
        "let dataset = h5py.File(\"full_dataset_vectors.h5\", \"r\")\n",
        "\n",
        "func floatTensor(from data: PythonObject) -> Tensor<Float> {\n",
        "  return Tensor<Float>(numpy: data.value.astype(np.float32))!\n",
        "}\n",
        "\n",
        "func intTensor(from data: PythonObject) -> Tensor<Int32> {\n",
        "  return Tensor<Int32>(numpy: data.value.astype(np.int32))!\n",
        "}\n",
        "\n",
        "var trainingFeatures = floatTensor(from: dataset[\"X_train\"])\n",
        "var trainingLabels = intTensor(from: dataset[\"y_train\"])\n",
        "\n",
        "var testFeatures = floatTensor(from: dataset[\"X_test\"])\n",
        "var testLabels = intTensor(from: dataset[\"y_test\"])"
      ],
      "execution_count": 5,
      "outputs": [
        {
          "output_type": "stream",
          "text": [
            "sys:1: H5pyDeprecationWarning: dataset.value has been deprecated. Use dataset[()] instead.\r\n"
          ],
          "name": "stdout"
        }
      ]
    },
    {
      "cell_type": "markdown",
      "metadata": {
        "id": "ESxkVgimlQXr",
        "colab_type": "text"
      },
      "source": [
        "## 📐 Verify Initial Dataset Shapes"
      ]
    },
    {
      "cell_type": "code",
      "metadata": {
        "id": "pFKdWnHtBmNb",
        "colab_type": "code",
        "colab": {}
      },
      "source": [
        "assert(trainingFeatures.shape == TensorShape([10_000, 4096]))\n",
        "assert(trainingLabels.shape == TensorShape([10_000]))\n",
        "\n",
        "assert(testFeatures.shape == TensorShape([2_000, 4096]))\n",
        "assert(testLabels.shape == TensorShape([2_000]))\n",
        "\n",
        "let trainingSize = trainingFeatures.shape[0]\n",
        "let testSize = testFeatures.shape[0]"
      ],
      "execution_count": 0,
      "outputs": []
    },
    {
      "cell_type": "markdown",
      "metadata": {
        "id": "0HAql2lRJgBP",
        "colab_type": "text"
      },
      "source": [
        "## 🌈 Give Each Point a Color\n",
        "\n",
        "Each sample represents an \"MNIST digit\" in three-dimensional space (x, y, z coordinates), where each  of the 4096 possible points has a color. "
      ]
    },
    {
      "cell_type": "code",
      "metadata": {
        "id": "xsuzDT6kxoPv",
        "colab_type": "code",
        "colab": {}
      },
      "source": [
        "var coloredTrainingSamples = Tensor<Float>(ones: TensorShape([10_000, 4096, 3]))\n",
        "var coloredTestSamples = Tensor<Float>(ones: TensorShape([2_000, 4096, 3]))\n",
        "\n",
        "let trainingNp = trainingFeatures.makeNumpyArray()\n",
        "let testNp = testFeatures.makeNumpyArray()\n",
        "let scalarMap = cm.ScalarMappable(cmap: \"Oranges\")\n",
        "\n",
        "func addColorDimension(scalars: PythonObject) -> Tensor<Float> {\n",
        "  let rgba = scalarMap.to_rgba(scalars).astype(np.float32)\n",
        "  let colorValues = Tensor<Float>(numpy: rgba)!\n",
        "  return colorValues[TensorRange.ellipsis, ..<3]\n",
        "}\n",
        "\n",
        "for i in 0 ..< trainingSize {\n",
        "  coloredTrainingSamples[i] = addColorDimension(scalars: trainingNp[i])\n",
        "}\n",
        "\n",
        "for i in 0 ..< testSize {\n",
        "  coloredTestSamples[i] = addColorDimension(scalars: testNp[i])\n",
        "}"
      ],
      "execution_count": 0,
      "outputs": []
    },
    {
      "cell_type": "markdown",
      "metadata": {
        "id": "qnMhtvftNTxB",
        "colab_type": "text"
      },
      "source": [
        "## 🔲 Expand Points to Three Dimensions\n",
        "\n",
        "Reshape each sample to be represented as a rank-4 tensor of shape `(16, 16, 16, 3)`."
      ]
    },
    {
      "cell_type": "code",
      "metadata": {
        "id": "F0aL-YkN2Ztb",
        "colab_type": "code",
        "outputId": "90e00b6d-81a5-4b74-af21-37b5f0514917",
        "colab": {
          "base_uri": "https://localhost:8080/",
          "height": 51
        }
      },
      "source": [
        "coloredTrainingSamples = coloredTrainingSamples.reshaped(to: TensorShape(trainingSize, 16, 16, 16, 3))\n",
        "coloredTestSamples = coloredTestSamples.reshaped(to: TensorShape(testSize, 16, 16, 16, 3))\n",
        "\n",
        "let coloredTrainingSamplesNp = coloredTrainingSamples.makeNumpyArray()\n",
        "let trainingLabelsNp = trainingLabels.makeNumpyArray()\n",
        "\n",
        "print(coloredTrainingSamples.shape)\n",
        "print(coloredTestSamples.shape)"
      ],
      "execution_count": 8,
      "outputs": [
        {
          "output_type": "stream",
          "text": [
            "[10000, 16, 16, 16, 3]\r\n",
            "[2000, 16, 16, 16, 3]\r\n"
          ],
          "name": "stdout"
        }
      ]
    },
    {
      "cell_type": "markdown",
      "metadata": {
        "id": "HOcXqn4LrREg",
        "colab_type": "text"
      },
      "source": [
        "## 📚 Defining Our Network"
      ]
    },
    {
      "cell_type": "code",
      "metadata": {
        "id": "oJeeJY9TrQ3L",
        "colab_type": "code",
        "cellView": "both",
        "colab": {}
      },
      "source": [
        "let frame_height = 16, frame_width = 16, frame_depth = 16\n",
        "let RGB_channels = 3\n",
        "let classCount = 10\n",
        "\n",
        "let input_shape = (frame_depth, frame_height, frame_width, RGB_channels)\n",
        "\n",
        "struct Classifier: Layer {\n",
        "    \n",
        "    typealias Input = Tensor<Float>\n",
        "    typealias Output = Tensor<Float>\n",
        "    \n",
        "    var conv1 = Conv3D<Float>(filterShape: (3, 3, 3, RGB_channels, 8), padding: .same, activation: relu)\n",
        "    var conv2 = Conv3D<Float>(filterShape: (3, 3, 3, 8, 16), padding: .same, activation: relu)\n",
        "    var pool = MaxPool3D<Float>(poolSize: (2, 2, 2), strides: (2, 2, 2))\n",
        "\n",
        "    var conv3 = Conv3D<Float>(filterShape: (3, 3, 3, 16, 32), padding: .same, activation: relu)\n",
        "    var conv4 = Conv3D<Float>(filterShape: (3, 3, 3, 32, 64), padding: .same, activation: relu)\n",
        "\n",
        "    var batchNorm = BatchNorm<Float>(featureCount: 64)\n",
        "    var flatten = Flatten<Float>()\n",
        "    \n",
        "    var dense1 = Dense<Float>(inputSize: 4096, outputSize: 4096, activation: relu)\n",
        "    var dense2 = Dense<Float>(inputSize: 4096, outputSize: 1024, activation: relu)\n",
        "\n",
        "    var dropout25 = Dropout<Float>(probability: 0.25)\n",
        "    var dropout50 = Dropout<Float>(probability: 0.5)\n",
        "  \n",
        "    var output = Dense<Float>(inputSize: 1024, outputSize: classCount, activation: softmax)\n",
        "\n",
        "    @differentiable\n",
        "    func callAsFunction(_ input: Input) -> Output {\n",
        "      return input\n",
        "      .sequenced(through: conv1, conv2, pool)\n",
        "      .sequenced(through: conv3, conv4, batchNorm, pool)\n",
        "      .sequenced(through: dropout25, flatten, dense1, dropout50)\n",
        "      .sequenced(through: dense2, dropout50, output)\n",
        "    }\n",
        "}"
      ],
      "execution_count": 0,
      "outputs": []
    },
    {
      "cell_type": "code",
      "metadata": {
        "id": "UmLYuKqzrTpF",
        "colab_type": "code",
        "colab": {}
      },
      "source": [
        "var model = Classifier()"
      ],
      "execution_count": 0,
      "outputs": []
    },
    {
      "cell_type": "code",
      "metadata": {
        "id": "RbSJPaWAqjIc",
        "colab_type": "code",
        "outputId": "093d1b32-ae10-45c9-d1d5-b9c8e3caf6fe",
        "colab": {
          "base_uri": "https://localhost:8080/",
          "height": 34
        }
      },
      "source": [
        "let dummy = Tensor<Float>(randomNormal: TensorShape(1, 16, 16, 16, 3))\n",
        "let eval = model(dummy)\n",
        "\n",
        "assert(eval.shape == TensorShape([1, 10]))\n",
        "print(eval.shape)"
      ],
      "execution_count": 11,
      "outputs": [
        {
          "output_type": "stream",
          "text": [
            "[1, 10]\r\n"
          ],
          "name": "stdout"
        }
      ]
    },
    {
      "cell_type": "markdown",
      "metadata": {
        "id": "VOeJ8yHOrYae",
        "colab_type": "text"
      },
      "source": [
        "## 📈 Training"
      ]
    },
    {
      "cell_type": "code",
      "metadata": {
        "id": "t0skMdiQqre6",
        "colab_type": "code",
        "colab": {}
      },
      "source": [
        "let batchSize = 100\n",
        "let epochs = 50"
      ],
      "execution_count": 0,
      "outputs": []
    },
    {
      "cell_type": "code",
      "metadata": {
        "id": "AjJvdVFLrmhk",
        "colab_type": "code",
        "colab": {}
      },
      "source": [
        "let optimizer = Adam(for: model, learningRate: 1e-5, decay: 1e-6)"
      ],
      "execution_count": 0,
      "outputs": []
    },
    {
      "cell_type": "code",
      "metadata": {
        "id": "N0DvT7Flrduz",
        "colab_type": "code",
        "colab": {}
      },
      "source": [
        "var trainAccHistory = np.zeros(epochs)\n",
        "var valAccHistory = np.zeros(epochs)\n",
        "\n",
        "var trainLossHistory = np.zeros(epochs)\n",
        "var valLossHistory = np.zeros(epochs)"
      ],
      "execution_count": 0,
      "outputs": []
    },
    {
      "cell_type": "code",
      "metadata": {
        "id": "-oyj71strm-i",
        "colab_type": "code",
        "outputId": "64d50318-7fb7-4848-e35b-8e9f9581db44",
        "colab": {
          "base_uri": "https://localhost:8080/",
          "height": 867
        }
      },
      "source": [
        "for epoch in 0 ..< epochs {\n",
        "\n",
        "    Context.local.learningPhase = .training\n",
        "\n",
        "    // Shuffle samples\n",
        "    let shuffledIndices = np.random.permutation(trainingSize)\n",
        "    let shuffledSamples = coloredTrainingSamplesNp[shuffledIndices]\n",
        "    let shuffledLabels = trainingLabelsNp[shuffledIndices]\n",
        "\n",
        "    // Loop over each batch of samples\n",
        "    for batchStart in stride(from: 0, to: trainingSize, by: batchSize) {\n",
        "      let batchRange = batchStart ..< batchStart + batchSize\n",
        "      let labels = Tensor<Int32>(numpy: shuffledLabels[batchRange])!\n",
        "      let samples = Tensor<Float>(numpy: shuffledSamples[batchRange])!\n",
        "\n",
        "      let (_, gradients) = valueWithGradient(at: model) { model -> Tensor<Float> in\n",
        "          let logits = model(samples)\n",
        "          return softmaxCrossEntropy(logits: logits, labels: labels)\n",
        "      }\n",
        "      optimizer.update(&model, along: gradients)\n",
        "    }\n",
        "\n",
        "    // Evaluate model\n",
        "    Context.local.learningPhase = .inference\n",
        "\n",
        "    var correctTrainGuessCount = 0\n",
        "    var totalTrainGuessCount = 0\n",
        "\n",
        "    for batchStart in stride(from: 0, to: trainingSize, by: batchSize) {\n",
        "      let batchRange = batchStart ..< batchStart + batchSize\n",
        "      let labels = Tensor<Int32>(numpy: shuffledLabels[batchRange])!\n",
        "      let samples = Tensor<Float>(numpy: shuffledSamples[batchRange])!\n",
        "\n",
        "      let logits = model(samples)\n",
        "\n",
        "      // accuracy\n",
        "      let correctPredictions = logits.argmax(squeezingAxis: 1) .== labels\n",
        "      correctTrainGuessCount += Int(Tensor<Int32>(correctPredictions).sum().scalarized())\n",
        "\n",
        "      // loss\n",
        "      trainLossHistory[epoch] += PythonObject(softmaxCrossEntropy(logits: logits, labels: labels).scalarized())\n",
        "    }\n",
        "\n",
        "    let trainAcc = Float(correctTrainGuessCount) / Float(trainingSize)\n",
        "    trainAccHistory[epoch] = PythonObject(trainAcc)\n",
        "\n",
        "    var correctValGuessCount = 0\n",
        "    var totalValGuessCount = 0\n",
        "\n",
        "    for batchStart in stride(from: 0, to: testSize, by: batchSize) {\n",
        "        let batchRange = batchStart ..< batchStart + batchSize\n",
        "        let labels = testLabels[batchRange]\n",
        "        let samples = coloredTestSamples[batchRange]\n",
        "\n",
        "        let logits = model(samples)\n",
        "\n",
        "        // accuracy\n",
        "        let correctPredictions = logits.argmax(squeezingAxis: 1) .== labels\n",
        "        correctValGuessCount += Int(Tensor<Int32>(correctPredictions).sum().scalarized())\n",
        "\n",
        "        // loss\n",
        "        valLossHistory[epoch] += PythonObject(softmaxCrossEntropy(logits: logits, labels: labels).scalarized())\n",
        "    }\n",
        "\n",
        "    let valAcc = Float(correctValGuessCount) / Float(testSize)\n",
        "    valAccHistory[epoch] = PythonObject(valAcc)\n",
        "    \n",
        "    print(\"\\(epoch + 1) | Training accuracy: \\(trainAcc) | Validation accuracy: \\(valAcc)\")\n",
        "}"
      ],
      "execution_count": 15,
      "outputs": [
        {
          "output_type": "stream",
          "text": [
            "1 | Training accuracy: 0.1573 | Validation accuracy: 0.161\n",
            "2 | Training accuracy: 0.2549 | Validation accuracy: 0.265\n",
            "3 | Training accuracy: 0.3134 | Validation accuracy: 0.317\n",
            "4 | Training accuracy: 0.3721 | Validation accuracy: 0.369\n",
            "5 | Training accuracy: 0.4083 | Validation accuracy: 0.398\n",
            "6 | Training accuracy: 0.4471 | Validation accuracy: 0.4485\n",
            "7 | Training accuracy: 0.4813 | Validation accuracy: 0.4725\n",
            "8 | Training accuracy: 0.4936 | Validation accuracy: 0.49\n",
            "9 | Training accuracy: 0.5097 | Validation accuracy: 0.504\n",
            "10 | Training accuracy: 0.5237 | Validation accuracy: 0.518\n",
            "11 | Training accuracy: 0.5399 | Validation accuracy: 0.5285\n",
            "12 | Training accuracy: 0.5605 | Validation accuracy: 0.551\n",
            "13 | Training accuracy: 0.575 | Validation accuracy: 0.5615\n",
            "14 | Training accuracy: 0.5822 | Validation accuracy: 0.568\n",
            "15 | Training accuracy: 0.5856 | Validation accuracy: 0.571\n",
            "16 | Training accuracy: 0.5918 | Validation accuracy: 0.5765\n",
            "17 | Training accuracy: 0.6033 | Validation accuracy: 0.589\n",
            "18 | Training accuracy: 0.6064 | Validation accuracy: 0.5865\n",
            "19 | Training accuracy: 0.6073 | Validation accuracy: 0.585\n",
            "20 | Training accuracy: 0.6186 | Validation accuracy: 0.6025\n",
            "21 | Training accuracy: 0.6216 | Validation accuracy: 0.608\n",
            "22 | Training accuracy: 0.6234 | Validation accuracy: 0.609\n",
            "23 | Training accuracy: 0.6276 | Validation accuracy: 0.612\n",
            "24 | Training accuracy: 0.6322 | Validation accuracy: 0.61\n",
            "25 | Training accuracy: 0.6377 | Validation accuracy: 0.615\n",
            "26 | Training accuracy: 0.6372 | Validation accuracy: 0.6165\n",
            "27 | Training accuracy: 0.6497 | Validation accuracy: 0.625\n",
            "28 | Training accuracy: 0.6526 | Validation accuracy: 0.635\n",
            "29 | Training accuracy: 0.6488 | Validation accuracy: 0.628\n",
            "30 | Training accuracy: 0.6515 | Validation accuracy: 0.631\n",
            "31 | Training accuracy: 0.66 | Validation accuracy: 0.633\n",
            "32 | Training accuracy: 0.6611 | Validation accuracy: 0.634\n",
            "33 | Training accuracy: 0.6649 | Validation accuracy: 0.637\n",
            "34 | Training accuracy: 0.6676 | Validation accuracy: 0.639\n",
            "35 | Training accuracy: 0.674 | Validation accuracy: 0.642\n",
            "36 | Training accuracy: 0.6748 | Validation accuracy: 0.64\n",
            "37 | Training accuracy: 0.6785 | Validation accuracy: 0.6395\n",
            "38 | Training accuracy: 0.6786 | Validation accuracy: 0.6425\n",
            "39 | Training accuracy: 0.6793 | Validation accuracy: 0.6455\n",
            "40 | Training accuracy: 0.6852 | Validation accuracy: 0.643\n",
            "41 | Training accuracy: 0.6838 | Validation accuracy: 0.6475\n",
            "42 | Training accuracy: 0.6866 | Validation accuracy: 0.6425\n",
            "43 | Training accuracy: 0.6931 | Validation accuracy: 0.651\n",
            "44 | Training accuracy: 0.6961 | Validation accuracy: 0.654\n",
            "45 | Training accuracy: 0.6998 | Validation accuracy: 0.6565\n",
            "46 | Training accuracy: 0.7012 | Validation accuracy: 0.6585\n",
            "47 | Training accuracy: 0.7038 | Validation accuracy: 0.656\n",
            "48 | Training accuracy: 0.707 | Validation accuracy: 0.665\n",
            "49 | Training accuracy: 0.7079 | Validation accuracy: 0.6685\n",
            "50 | Training accuracy: 0.7123 | Validation accuracy: 0.6635\n"
          ],
          "name": "stdout"
        }
      ]
    },
    {
      "cell_type": "markdown",
      "metadata": {
        "id": "7yhLGuCxre3N",
        "colab_type": "text"
      },
      "source": [
        "## 🕝 Inspecting training history"
      ]
    },
    {
      "cell_type": "code",
      "metadata": {
        "id": "EagDUPyrrftQ",
        "colab_type": "code",
        "colab": {
          "base_uri": "https://localhost:8080/",
          "height": 312
        },
        "outputId": "ee3d10a7-1b10-48ba-d90c-d98e971d31c1"
      },
      "source": [
        "plt.plot(trainAccHistory, label: \"Training Accuracy\")\n",
        "plt.plot(valAccHistory, label: \"Validation Accuracy\")\n",
        "plt.xlabel(\"Number of epochs\")\n",
        "plt.legend()\n",
        "plt.title(\"Accuracy\")\n",
        "plt.show()"
      ],
      "execution_count": 16,
      "outputs": [
        {
          "output_type": "display_data",
          "data": {
            "image/png": "[encoded data removed]",
            "text/plain": [
              "<Figure size 432x288 with 1 Axes>"
            ]
          },
          "metadata": {
            "tags": []
          }
        },
        {
          "output_type": "execute_result",
          "data": {
            "text/plain": [
              "None\n"
            ]
          },
          "metadata": {
            "tags": []
          },
          "execution_count": 16
        }
      ]
    },
    {
      "cell_type": "code",
      "metadata": {
        "id": "03rkXnMLrhQE",
        "colab_type": "code",
        "colab": {
          "base_uri": "https://localhost:8080/",
          "height": 312
        },
        "outputId": "90c46f8b-d77e-41a7-dc1e-1116f7bb260b"
      },
      "source": [
        "plt.plot(trainLossHistory, label: \"Training Set\")\n",
        "plt.plot(valLossHistory, label: \"Validation Set\")\n",
        "plt.xlabel(\"Number of epochs\")\n",
        "plt.legend()\n",
        "plt.title(\"Loss\")\n",
        "plt.show()"
      ],
      "execution_count": 17,
      "outputs": [
        {
          "output_type": "display_data",
          "data": {
            "image/png": "[encoded data removed]",
            "text/plain": [
              "<Figure size 432x288 with 1 Axes>"
            ]
          },
          "metadata": {
            "tags": []
          }
        },
        {
          "output_type": "execute_result",
          "data": {
            "text/plain": [
              "None\n"
            ]
          },
          "metadata": {
            "tags": []
          },
          "execution_count": 17
        }
      ]
    },
    {
      "cell_type": "markdown",
      "metadata": {
        "id": "PoYNXefQrn0G",
        "colab_type": "text"
      },
      "source": [
        "## 🌐 Making Inferences\n",
        "\n",
        "With our model now trained, we can make inferences to predict the class labels of samples outside the training set."
      ]
    },
    {
      "cell_type": "code",
      "metadata": {
        "id": "fheOkQ5-Vv6n",
        "colab_type": "code",
        "colab": {
          "base_uri": "https://localhost:8080/",
          "height": 34
        },
        "outputId": "1350b385-6749-44a3-b303-39f6e072067e"
      },
      "source": [
        "let randomIndex = Int.random(in: 0 ..< testSize)\n",
        "var randomSample = coloredTestSamples[randomIndex].reshaped(to: TensorShape(1, 16, 16, 16, 3))\n",
        "\n",
        "let label = testLabels[randomIndex]\n",
        "\n",
        "print(\"Predicted: \\(model(randomSample).argmax()), Actual: \\(label)\")"
      ],
      "execution_count": 18,
      "outputs": [
        {
          "output_type": "stream",
          "text": [
            "Predicted: 3, Actual: 3\r\n"
          ],
          "name": "stdout"
        }
      ]
    }
  ]
}