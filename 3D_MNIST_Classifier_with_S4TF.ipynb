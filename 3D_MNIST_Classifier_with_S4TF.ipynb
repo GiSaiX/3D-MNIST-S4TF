{
  "nbformat": 4,
  "nbformat_minor": 0,
  "metadata": {
    "colab": {
      "name": "3D MNIST Classifier with S4TF.ipynb",
      "provenance": [],
      "collapsed_sections": [],
      "toc_visible": true,
      "machine_shape": "hm",
      "include_colab_link": true
    },
    "kernelspec": {
      "name": "swift",
      "display_name": "Swift"
    },
    "accelerator": "GPU"
  },
  "cells": [
    {
      "cell_type": "markdown",
      "metadata": {
        "id": "view-in-github",
        "colab_type": "text"
      },
      "source": [
        "<a href=\"https://colab.research.google.com/github/lukereichold/3D-MNIST-S4TF/blob/master/3D_MNIST_Classifier_with_S4TF.ipynb\" target=\"_parent\"><img src=\"https://colab.research.google.com/assets/colab-badge.svg\" alt=\"Open In Colab\"/></a>"
      ]
    },
    {
      "cell_type": "markdown",
      "metadata": {
        "id": "sh3DhAz5BCuv",
        "colab_type": "text"
      },
      "source": [
        "## ⚙️ Install Dependencies"
      ]
    },
    {
      "cell_type": "code",
      "metadata": {
        "id": "kZRlD4utdPuX",
        "colab_type": "code",
        "colab": {}
      },
      "source": [
        "%install-location $cwd/swift-install"
      ],
      "execution_count": 0,
      "outputs": []
    },
    {
      "cell_type": "code",
      "metadata": {
        "id": "qS0u3oWyrHBy",
        "colab_type": "code",
        "colab": {}
      },
      "source": [
        "import TensorFlow\n",
        "import Foundation\n",
        "import Python"
      ],
      "execution_count": 0,
      "outputs": []
    },
    {
      "cell_type": "code",
      "metadata": {
        "id": "O-zbuX8hAr7W",
        "colab_type": "code",
        "colab": {}
      },
      "source": [
        "let h5py = Python.import(\"h5py\")\n",
        "let np = Python.import(\"numpy\")\n",
        "let os = Python.import(\"os\")\n",
        "let plt = Python.import(\"matplotlib.pyplot\")\n",
        "let cm = Python.import(\"matplotlib.cm\")"
      ],
      "execution_count": 0,
      "outputs": []
    },
    {
      "cell_type": "code",
      "metadata": {
        "id": "8WrzILOqrHGR",
        "colab_type": "code",
        "colab": {
          "base_uri": "https://localhost:8080/",
          "height": 34
        },
        "outputId": "86373cea-2ca1-4ff3-f3d0-c462eca36d51"
      },
      "source": [
        "%include \"EnableIPythonDisplay.swift\"\n",
        "IPythonDisplay.shell.enable_matplotlib(\"inline\")"
      ],
      "execution_count": 4,
      "outputs": [
        {
          "output_type": "execute_result",
          "data": {
            "text/plain": [
              "('inline', 'module://ipykernel.pylab.backend_inline')\n"
            ]
          },
          "metadata": {
            "tags": []
          },
          "execution_count": 4
        }
      ]
    },
    {
      "cell_type": "markdown",
      "metadata": {
        "id": "mUOSyO8nk3WZ",
        "colab_type": "text"
      },
      "source": [
        "## ⬇ Fetch Dataset\n",
        "3D Point Vectors fetched initially from https://www.kaggle.com/daavoo/3d-mnist/data (29 Mb)"
      ]
    },
    {
      "cell_type": "code",
      "metadata": {
        "id": "d_FVkxV98SYd",
        "colab_type": "code",
        "colab": {
          "base_uri": "https://localhost:8080/",
          "height": 462
        },
        "outputId": "49f3364f-3ade-4b41-adac-b534afce61f0"
      },
      "source": [
        "os.system(\"wget https://www.dropbox.com/s/mvre9rojnjp2a36/full_dataset_vectors.h5\")"
      ],
      "execution_count": 5,
      "outputs": [
        {
          "output_type": "stream",
          "text": [
            "--2020-03-11 02:47:57--  https://www.dropbox.com/s/mvre9rojnjp2a36/full_dataset_vectors.h5\r\n",
            "Resolving www.dropbox.com (www.dropbox.com)... 162.125.9.1, 2620:100:601f:1::a27d:901\n",
            "Connecting to www.dropbox.com (www.dropbox.com)|162.125.9.1|:443... connected.\n",
            "HTTP request sent, awaiting response... 301 Moved Permanently\n",
            "Location: /s/raw/mvre9rojnjp2a36/full_dataset_vectors.h5 [following]\n",
            "--2020-03-11 02:47:57--  https://www.dropbox.com/s/raw/mvre9rojnjp2a36/full_dataset_vectors.h5\n",
            "Reusing existing connection to www.dropbox.com:443.\n",
            "HTTP request sent, awaiting response... 302 Found\n",
            "Location: https://uc57c3487210308d8baeac3abb9e.dl.dropboxusercontent.com/cd/0/inline/AzqQ0Vdr1Ag20M8m092zovU_P-F5g8l2GEK8hu2vwzMVdBxhWg_4hcEIgyE7jGNBzM6UtX20CSTgw3a5m5t06k6KInJidGE1AoW2iqTnMqxbEy6XkpGfV98iiIqM9R7qHbo/file# [following]\n",
            "--2020-03-11 02:47:57--  https://uc57c3487210308d8baeac3abb9e.dl.dropboxusercontent.com/cd/0/inline/AzqQ0Vdr1Ag20M8m092zovU_P-F5g8l2GEK8hu2vwzMVdBxhWg_4hcEIgyE7jGNBzM6UtX20CSTgw3a5m5t06k6KInJidGE1AoW2iqTnMqxbEy6XkpGfV98iiIqM9R7qHbo/file\n",
            "Resolving uc57c3487210308d8baeac3abb9e.dl.dropboxusercontent.com (uc57c3487210308d8baeac3abb9e.dl.dropboxusercontent.com)... 162.125.9.6, 2620:100:601f:6::a27d:906\n",
            "Connecting to uc57c3487210308d8baeac3abb9e.dl.dropboxusercontent.com (uc57c3487210308d8baeac3abb9e.dl.dropboxusercontent.com)|162.125.9.6|:443... connected.\n",
            "HTTP request sent, awaiting response... 302 FOUND\n",
            "Location: /cd/0/inline2/AzqLJ5tceXcEEmJGp3-hGa9ndwITLEm7RRCQgd8IshsbltTpSUwgmZF-wj8mby0uNiY4jWqp3Heg6h041zJ-l0ll8gdm5uN7gWjPTvrhqEM_WzbbA8GhYrRGf5CnNu_i6Obgk2_NznYct2OK-m3Lnzxb8oUOMm8bWlrI1cHitdaOjVByB2Ax4LyBDVHSXbq91yHKHbgY5hubKvFzQuFBgb2GxS0Qq5B7_WTDUDLJCpK2Ke8CuYhpX0jVbX8luS5NpUGH3SxtK3GlInup7zLxRq8kyAWyQACsa_sldn2SW7lruu389cUI0Mftcr5mYcYxgYOOE8QDE59T9BUezrdZbIg70j93Accl9mOmH9W6GbzKEg/file [following]\n",
            "--2020-03-11 02:47:58--  https://uc57c3487210308d8baeac3abb9e.dl.dropboxusercontent.com/cd/0/inline2/AzqLJ5tceXcEEmJGp3-hGa9ndwITLEm7RRCQgd8IshsbltTpSUwgmZF-wj8mby0uNiY4jWqp3Heg6h041zJ-l0ll8gdm5uN7gWjPTvrhqEM_WzbbA8GhYrRGf5CnNu_i6Obgk2_NznYct2OK-m3Lnzxb8oUOMm8bWlrI1cHitdaOjVByB2Ax4LyBDVHSXbq91yHKHbgY5hubKvFzQuFBgb2GxS0Qq5B7_WTDUDLJCpK2Ke8CuYhpX0jVbX8luS5NpUGH3SxtK3GlInup7zLxRq8kyAWyQACsa_sldn2SW7lruu389cUI0Mftcr5mYcYxgYOOE8QDE59T9BUezrdZbIg70j93Accl9mOmH9W6GbzKEg/file\n",
            "Reusing existing connection to uc57c3487210308d8baeac3abb9e.dl.dropboxusercontent.com:443.\n",
            "HTTP request sent, awaiting response... 200 OK\n",
            "Length: 30582936 (29M) [application/octet-stream]\n",
            "Saving to: ‘full_dataset_vectors.h5’\n",
            "\n",
            "full_dataset_vector 100%[===================>]  29.17M  75.1MB/s    in 0.4s    \n",
            "\n",
            "2020-03-11 02:47:59 (75.1 MB/s) - ‘full_dataset_vectors.h5’ saved [30582936/30582936]\n",
            "\n"
          ],
          "name": "stdout"
        },
        {
          "output_type": "execute_result",
          "data": {
            "text/plain": [
              "0\n"
            ]
          },
          "metadata": {
            "tags": []
          },
          "execution_count": 5
        }
      ]
    },
    {
      "cell_type": "code",
      "metadata": {
        "id": "VZeMCfywmBV4",
        "colab_type": "code",
        "colab": {}
      },
      "source": [
        "let dataset = h5py.File(\"full_dataset_vectors.h5\", \"r\")\n",
        "\n",
        "func floatTensor(from data: PythonObject) -> Tensor<Float> {\n",
        "  return Tensor<Float>(numpy: data.value.astype(np.float32))!\n",
        "}\n",
        "\n",
        "func intTensor(from data: PythonObject) -> Tensor<Int32> {\n",
        "  return Tensor<Int32>(numpy: data.value.astype(np.int32))!\n",
        "}\n",
        "\n",
        "var trainingFeatures = floatTensor(from: dataset[\"X_train\"])\n",
        "var trainingLabels = intTensor(from: dataset[\"y_train\"])\n",
        "\n",
        "var testFeatures = floatTensor(from: dataset[\"X_test\"])\n",
        "var testLabels = intTensor(from: dataset[\"y_test\"])"
      ],
      "execution_count": 0,
      "outputs": []
    },
    {
      "cell_type": "markdown",
      "metadata": {
        "id": "ESxkVgimlQXr",
        "colab_type": "text"
      },
      "source": [
        "## 📐 Verify Initial Dataset Shapes"
      ]
    },
    {
      "cell_type": "code",
      "metadata": {
        "id": "pFKdWnHtBmNb",
        "colab_type": "code",
        "colab": {}
      },
      "source": [
        "assert(trainingFeatures.shape == TensorShape([10_000, 4096]))\n",
        "assert(trainingLabels.shape == TensorShape([10_000]))\n",
        "\n",
        "assert(testFeatures.shape == TensorShape([2_000, 4096]))\n",
        "assert(testLabels.shape == TensorShape([2_000]))\n",
        "\n",
        "let trainingSize = trainingFeatures.shape[0]\n",
        "let testSize = testFeatures.shape[0]"
      ],
      "execution_count": 0,
      "outputs": []
    },
    {
      "cell_type": "markdown",
      "metadata": {
        "id": "0HAql2lRJgBP",
        "colab_type": "text"
      },
      "source": [
        "## 🌈 Give Each Point a Color\n",
        "\n",
        "Each sample represents an \"MNIST digit\" in three-dimensional space (x, y, z coordinates), where each  of the 4096 possible points has a color. "
      ]
    },
    {
      "cell_type": "code",
      "metadata": {
        "id": "xsuzDT6kxoPv",
        "colab_type": "code",
        "colab": {}
      },
      "source": [
        "var coloredTrainingSamples = Tensor<Float>(ones: TensorShape([10_000, 4096, 3]))\n",
        "var coloredTestSamples = Tensor<Float>(ones: TensorShape([2_000, 4096, 3]))\n",
        "\n",
        "let trainingNp = trainingFeatures.makeNumpyArray()\n",
        "let testNp = testFeatures.makeNumpyArray()\n",
        "let scalarMap = cm.ScalarMappable(cmap: \"Oranges\")\n",
        "\n",
        "func addColorDimension(scalars: PythonObject) -> Tensor<Float> {\n",
        "  let rgba = scalarMap.to_rgba(scalars).astype(np.float32)\n",
        "  let colorValues = Tensor<Float>(numpy: rgba)!\n",
        "  return colorValues[TensorRange.ellipsis, ..<3]\n",
        "}\n",
        "\n",
        "for i in 0 ..< trainingSize {\n",
        "  coloredTrainingSamples[i] = addColorDimension(scalars: trainingNp[i])\n",
        "}\n",
        "\n",
        "for i in 0 ..< testSize {\n",
        "  coloredTestSamples[i] = addColorDimension(scalars: testNp[i])\n",
        "}"
      ],
      "execution_count": 0,
      "outputs": []
    },
    {
      "cell_type": "markdown",
      "metadata": {
        "id": "qnMhtvftNTxB",
        "colab_type": "text"
      },
      "source": [
        "## 🔲 Expand Points to Three Dimensions\n",
        "\n",
        "Reshape each sample to be represented as a rank-4 tensor of shape `(16, 16, 16, 3)`."
      ]
    },
    {
      "cell_type": "code",
      "metadata": {
        "id": "F0aL-YkN2Ztb",
        "colab_type": "code",
        "colab": {
          "base_uri": "https://localhost:8080/",
          "height": 51
        },
        "outputId": "abc6ed62-9332-4ac0-8cdd-e611377f30c6"
      },
      "source": [
        "coloredTrainingSamples = coloredTrainingSamples.reshaped(to: TensorShape(trainingSize, 16, 16, 16, 3))\n",
        "coloredTestSamples = coloredTestSamples.reshaped(to: TensorShape(testSize, 16, 16, 16, 3))\n",
        "\n",
        "let coloredTrainingSamplesNp = coloredTrainingSamples.makeNumpyArray()\n",
        "let trainingLabelsNp = trainingLabels.makeNumpyArray()\n",
        "\n",
        "print(coloredTrainingSamples.shape)\n",
        "print(coloredTestSamples.shape)"
      ],
      "execution_count": 9,
      "outputs": [
        {
          "output_type": "stream",
          "text": [
            "[10000, 16, 16, 16, 3]\r\n",
            "[2000, 16, 16, 16, 3]\r\n"
          ],
          "name": "stdout"
        }
      ]
    },
    {
      "cell_type": "markdown",
      "metadata": {
        "id": "HOcXqn4LrREg",
        "colab_type": "text"
      },
      "source": [
        "## 📚 Defining Our Network"
      ]
    },
    {
      "cell_type": "code",
      "metadata": {
        "id": "oJeeJY9TrQ3L",
        "colab_type": "code",
        "cellView": "both",
        "colab": {}
      },
      "source": [
        "let frame_height = 16, frame_width = 16, frame_depth = 16\n",
        "let RGB_channels = 3\n",
        "let classCount = 10\n",
        "\n",
        "let input_shape = (frame_depth, frame_height, frame_width, RGB_channels)\n",
        "\n",
        "struct Classifier: Layer {\n",
        "    \n",
        "    typealias Input = Tensor<Float>\n",
        "    typealias Output = Tensor<Float>\n",
        "    \n",
        "    var conv1 = Conv3D<Float>(filterShape: (3, 3, 3, RGB_channels, 8), padding: .same, activation: relu)\n",
        "    var conv2 = Conv3D<Float>(filterShape: (3, 3, 3, 8, 16), padding: .same, activation: relu)\n",
        "    var pool = MaxPool3D<Float>(poolSize: (2, 2, 2), strides: (2, 2, 2))\n",
        "\n",
        "    var conv3 = Conv3D<Float>(filterShape: (3, 3, 3, 16, 32), padding: .same, activation: relu)\n",
        "    var conv4 = Conv3D<Float>(filterShape: (3, 3, 3, 32, 64), padding: .same, activation: relu)\n",
        "\n",
        "    var batchNorm = BatchNorm<Float>(featureCount: 64)\n",
        "    var flatten = Flatten<Float>()\n",
        "    \n",
        "    var dense1 = Dense<Float>(inputSize: 4096, outputSize: 4096, activation: relu)\n",
        "    var dense2 = Dense<Float>(inputSize: 4096, outputSize: 1024, activation: relu)\n",
        "\n",
        "    var dropout25 = Dropout<Float>(probability: 0.25)\n",
        "    var dropout50 = Dropout<Float>(probability: 0.5)\n",
        "  \n",
        "    var output = Dense<Float>(inputSize: 1024, outputSize: classCount, activation: softmax)\n",
        "\n",
        "    @differentiable\n",
        "    func callAsFunction(_ input: Input) -> Output {\n",
        "      return input\n",
        "      .sequenced(through: conv1, conv2, pool)\n",
        "      .sequenced(through: conv3, conv4, batchNorm, pool)\n",
        "      .sequenced(through: dropout25, flatten, dense1, dropout50)\n",
        "      .sequenced(through: dense2, dropout50, output)\n",
        "    }\n",
        "}"
      ],
      "execution_count": 0,
      "outputs": []
    },
    {
      "cell_type": "code",
      "metadata": {
        "id": "UmLYuKqzrTpF",
        "colab_type": "code",
        "colab": {}
      },
      "source": [
        "var model = Classifier()"
      ],
      "execution_count": 0,
      "outputs": []
    },
    {
      "cell_type": "code",
      "metadata": {
        "id": "RbSJPaWAqjIc",
        "colab_type": "code",
        "colab": {
          "base_uri": "https://localhost:8080/",
          "height": 34
        },
        "outputId": "3ce22cd8-97b7-4b52-d6cb-36f1c6b27261"
      },
      "source": [
        "let dummy = Tensor<Float>(randomNormal: TensorShape(1, 16, 16, 16, 3))\n",
        "let eval = model(dummy)\n",
        "\n",
        "assert(eval.shape == TensorShape([1, 10]))\n",
        "print(eval.shape)"
      ],
      "execution_count": 12,
      "outputs": [
        {
          "output_type": "stream",
          "text": [
            "[1, 10]\r\n"
          ],
          "name": "stdout"
        }
      ]
    },
    {
      "cell_type": "markdown",
      "metadata": {
        "id": "VOeJ8yHOrYae",
        "colab_type": "text"
      },
      "source": [
        "## 📈 Training"
      ]
    },
    {
      "cell_type": "code",
      "metadata": {
        "id": "t0skMdiQqre6",
        "colab_type": "code",
        "colab": {}
      },
      "source": [
        "let batchSize = 100\n",
        "let epochs = 50"
      ],
      "execution_count": 0,
      "outputs": []
    },
    {
      "cell_type": "code",
      "metadata": {
        "id": "AjJvdVFLrmhk",
        "colab_type": "code",
        "colab": {}
      },
      "source": [
        "let optimizer = Adam(for: model, learningRate: 1e-5, decay: 1e-6)"
      ],
      "execution_count": 0,
      "outputs": []
    },
    {
      "cell_type": "code",
      "metadata": {
        "id": "N0DvT7Flrduz",
        "colab_type": "code",
        "colab": {}
      },
      "source": [
        "var trainAccHistory = np.zeros(epochs)\n",
        "var valAccHistory = np.zeros(epochs)\n",
        "\n",
        "var trainLossHistory = np.zeros(epochs)\n",
        "var valLossHistory = np.zeros(epochs)"
      ],
      "execution_count": 0,
      "outputs": []
    },
    {
      "cell_type": "code",
      "metadata": {
        "id": "-oyj71strm-i",
        "colab_type": "code",
        "colab": {
          "base_uri": "https://localhost:8080/",
          "height": 867
        },
        "outputId": "7c6b74eb-107f-40b5-e2f8-02a58b76f120"
      },
      "source": [
        "for epoch in 0 ..< epochs {\n",
        "\n",
        "    Context.local.learningPhase = .training\n",
        "\n",
        "    // Shuffle samples\n",
        "    let shuffledIndices = np.random.permutation(trainingSize)\n",
        "    let shuffledSamples = coloredTrainingSamplesNp[shuffledIndices]\n",
        "    let shuffledLabels = trainingLabelsNp[shuffledIndices]\n",
        "\n",
        "    // Loop over each batch of samples\n",
        "    for batchStart in stride(from: 0, to: trainingSize, by: batchSize) {\n",
        "      let batchRange = batchStart ..< batchStart + batchSize\n",
        "      let labels = Tensor<Int32>(numpy: shuffledLabels[batchRange])!\n",
        "      let samples = Tensor<Float>(numpy: shuffledSamples[batchRange])!\n",
        "\n",
        "      let (_, gradients) = valueWithGradient(at: model) { model -> Tensor<Float> in\n",
        "          let logits = model(samples)\n",
        "          return softmaxCrossEntropy(logits: logits, labels: labels)\n",
        "      }\n",
        "      optimizer.update(&model, along: gradients)\n",
        "    }\n",
        "\n",
        "    // Evaluate model\n",
        "    Context.local.learningPhase = .inference\n",
        "\n",
        "    var correctTrainGuessCount = 0\n",
        "    var totalTrainGuessCount = 0\n",
        "\n",
        "    for batchStart in stride(from: 0, to: trainingSize, by: batchSize) {\n",
        "      let batchRange = batchStart ..< batchStart + batchSize\n",
        "      let labels = Tensor<Int32>(numpy: shuffledLabels[batchRange])!\n",
        "      let samples = Tensor<Float>(numpy: shuffledSamples[batchRange])!\n",
        "\n",
        "      let logits = model(samples)\n",
        "\n",
        "      // accuracy\n",
        "      let correctPredictions = logits.argmax(squeezingAxis: 1) .== labels\n",
        "      correctTrainGuessCount += Int(Tensor<Int32>(correctPredictions).sum().scalarized())\n",
        "\n",
        "      // loss\n",
        "      trainLossHistory[epoch] += PythonObject(softmaxCrossEntropy(logits: logits, labels: labels).scalarized())\n",
        "    }\n",
        "\n",
        "    let trainAcc = Float(correctTrainGuessCount) / Float(trainingSize)\n",
        "    trainAccHistory[epoch] = PythonObject(trainAcc)\n",
        "\n",
        "    var correctValGuessCount = 0\n",
        "    var totalValGuessCount = 0\n",
        "\n",
        "    for batchStart in stride(from: 0, to: testSize, by: batchSize) {\n",
        "        let batchRange = batchStart ..< batchStart + batchSize\n",
        "        let labels = testLabels[batchRange]\n",
        "        let samples = coloredTestSamples[batchRange]\n",
        "\n",
        "        let logits = model(samples)\n",
        "\n",
        "        // accuracy\n",
        "        let correctPredictions = logits.argmax(squeezingAxis: 1) .== labels\n",
        "        correctValGuessCount += Int(Tensor<Int32>(correctPredictions).sum().scalarized())\n",
        "\n",
        "        // loss\n",
        "        valLossHistory[epoch] += PythonObject(softmaxCrossEntropy(logits: logits, labels: labels).scalarized())\n",
        "    }\n",
        "\n",
        "    let valAcc = Float(correctValGuessCount) / Float(testSize)\n",
        "    valAccHistory[epoch] = PythonObject(valAcc)\n",
        "    \n",
        "    print(\"\\(epoch + 1) | Training accuracy: \\(trainAcc) | Validation accuracy: \\(valAcc)\")\n",
        "}"
      ],
      "execution_count": 16,
      "outputs": [
        {
          "output_type": "stream",
          "text": [
            "1 | Training accuracy: 0.1884 | Validation accuracy: 0.202\n",
            "2 | Training accuracy: 0.1686 | Validation accuracy: 0.1775\n",
            "3 | Training accuracy: 0.2448 | Validation accuracy: 0.249\n",
            "4 | Training accuracy: 0.252 | Validation accuracy: 0.2605\n",
            "5 | Training accuracy: 0.3044 | Validation accuracy: 0.3115\n",
            "6 | Training accuracy: 0.3247 | Validation accuracy: 0.329\n",
            "7 | Training accuracy: 0.3475 | Validation accuracy: 0.3505\n",
            "8 | Training accuracy: 0.3612 | Validation accuracy: 0.364\n",
            "9 | Training accuracy: 0.4247 | Validation accuracy: 0.4115\n",
            "10 | Training accuracy: 0.4658 | Validation accuracy: 0.456\n",
            "11 | Training accuracy: 0.4851 | Validation accuracy: 0.476\n",
            "12 | Training accuracy: 0.4813 | Validation accuracy: 0.47\n",
            "13 | Training accuracy: 0.4907 | Validation accuracy: 0.485\n",
            "14 | Training accuracy: 0.5249 | Validation accuracy: 0.519\n",
            "15 | Training accuracy: 0.5263 | Validation accuracy: 0.524\n",
            "16 | Training accuracy: 0.547 | Validation accuracy: 0.5305\n",
            "17 | Training accuracy: 0.5345 | Validation accuracy: 0.53\n",
            "18 | Training accuracy: 0.5581 | Validation accuracy: 0.5475\n",
            "19 | Training accuracy: 0.5647 | Validation accuracy: 0.5505\n",
            "20 | Training accuracy: 0.5634 | Validation accuracy: 0.5545\n",
            "21 | Training accuracy: 0.5721 | Validation accuracy: 0.5595\n",
            "22 | Training accuracy: 0.5764 | Validation accuracy: 0.5685\n",
            "23 | Training accuracy: 0.5897 | Validation accuracy: 0.573\n",
            "24 | Training accuracy: 0.5872 | Validation accuracy: 0.572\n",
            "25 | Training accuracy: 0.5957 | Validation accuracy: 0.584\n",
            "26 | Training accuracy: 0.6043 | Validation accuracy: 0.5785\n",
            "27 | Training accuracy: 0.592 | Validation accuracy: 0.577\n",
            "28 | Training accuracy: 0.6088 | Validation accuracy: 0.5895\n",
            "29 | Training accuracy: 0.6162 | Validation accuracy: 0.602\n",
            "30 | Training accuracy: 0.6188 | Validation accuracy: 0.5995\n",
            "31 | Training accuracy: 0.6212 | Validation accuracy: 0.602\n",
            "32 | Training accuracy: 0.6252 | Validation accuracy: 0.611\n",
            "33 | Training accuracy: 0.6244 | Validation accuracy: 0.6095\n",
            "34 | Training accuracy: 0.6325 | Validation accuracy: 0.6085\n",
            "35 | Training accuracy: 0.6372 | Validation accuracy: 0.617\n",
            "36 | Training accuracy: 0.635 | Validation accuracy: 0.613\n",
            "37 | Training accuracy: 0.6433 | Validation accuracy: 0.6125\n",
            "38 | Training accuracy: 0.6496 | Validation accuracy: 0.6165\n",
            "39 | Training accuracy: 0.6453 | Validation accuracy: 0.6195\n",
            "40 | Training accuracy: 0.645 | Validation accuracy: 0.619\n",
            "41 | Training accuracy: 0.6512 | Validation accuracy: 0.6175\n",
            "42 | Training accuracy: 0.6564 | Validation accuracy: 0.6255\n",
            "43 | Training accuracy: 0.6607 | Validation accuracy: 0.624\n",
            "44 | Training accuracy: 0.6664 | Validation accuracy: 0.6295\n",
            "45 | Training accuracy: 0.6631 | Validation accuracy: 0.6275\n",
            "46 | Training accuracy: 0.6675 | Validation accuracy: 0.6265\n",
            "47 | Training accuracy: 0.673 | Validation accuracy: 0.631\n",
            "48 | Training accuracy: 0.676 | Validation accuracy: 0.6355\n",
            "49 | Training accuracy: 0.6717 | Validation accuracy: 0.627\n",
            "50 | Training accuracy: 0.676 | Validation accuracy: 0.6335\n"
          ],
          "name": "stdout"
        }
      ]
    },
    {
      "cell_type": "markdown",
      "metadata": {
        "id": "7yhLGuCxre3N",
        "colab_type": "text"
      },
      "source": [
        "## 🕝 Inspecting training history"
      ]
    },
    {
      "cell_type": "code",
      "metadata": {
        "id": "EagDUPyrrftQ",
        "colab_type": "code",
        "colab": {
          "base_uri": "https://localhost:8080/",
          "height": 312
        },
        "outputId": "feb844d1-dcbb-4a27-ccde-a003f97e505a"
      },
      "source": [
        "plt.plot(trainAccHistory, label: \"Training Accuracy\")\n",
        "plt.plot(valAccHistory, label: \"Validation Accuracy\")\n",
        "plt.xlabel(\"Number of epochs\")\n",
        "plt.legend()\n",
        "plt.title(\"Accuracy\")\n",
        "plt.show()"
      ],
      "execution_count": 17,
      "outputs": [
        {
          "output_type": "display_data",
          "data": {
            "image/png": "[encoded data removed]",
            "text/plain": [
              "<Figure size 432x288 with 1 Axes>"
            ]
          },
          "metadata": {
            "tags": []
          }
        },
        {
          "output_type": "execute_result",
          "data": {
            "text/plain": [
              "None\n"
            ]
          },
          "metadata": {
            "tags": []
          },
          "execution_count": 17
        }
      ]
    },
    {
      "cell_type": "code",
      "metadata": {
        "id": "03rkXnMLrhQE",
        "colab_type": "code",
        "colab": {
          "base_uri": "https://localhost:8080/",
          "height": 312
        },
        "outputId": "29d097d9-2474-4399-dd86-a4f6ba1dd62b"
      },
      "source": [
        "plt.plot(trainLossHistory, label: \"Training Set\")\n",
        "plt.plot(valLossHistory, label: \"Validation Set\")\n",
        "plt.xlabel(\"Number of epochs\")\n",
        "plt.legend()\n",
        "plt.title(\"Loss\")\n",
        "plt.show()"
      ],
      "execution_count": 18,
      "outputs": [
        {
          "output_type": "display_data",
          "data": {
            "image/png": "[encoded data removed]",
            "text/plain": [
              "<Figure size 432x288 with 1 Axes>"
            ]
          },
          "metadata": {
            "tags": []
          }
        },
        {
          "output_type": "execute_result",
          "data": {
            "text/plain": [
              "None\n"
            ]
          },
          "metadata": {
            "tags": []
          },
          "execution_count": 18
        }
      ]
    },
    {
      "cell_type": "markdown",
      "metadata": {
        "id": "PoYNXefQrn0G",
        "colab_type": "text"
      },
      "source": [
        "## 🌐 Making Inferences\n",
        "\n",
        "With our model now trained, we can make inferences to predict the class labels of samples outside the training set."
      ]
    },
    {
      "cell_type": "code",
      "metadata": {
        "id": "fheOkQ5-Vv6n",
        "colab_type": "code",
        "colab": {
          "base_uri": "https://localhost:8080/",
          "height": 34
        },
        "outputId": "fa24e91b-978e-432e-f51a-565c6ece50c7"
      },
      "source": [
        "let randomIndex = Int.random(in: 0 ..< testSize)\n",
        "var randomSample = coloredTestSamples[randomIndex].reshaped(to: TensorShape(1, 16, 16, 16, 3))\n",
        "\n",
        "let label = testLabels[randomIndex]\n",
        "\n",
        "print(\"Predicted: \\(model(randomSample).argmax()), Actual: \\(label)\")"
      ],
      "execution_count": 19,
      "outputs": [
        {
          "output_type": "stream",
          "text": [
            "Predicted: 9, Actual: 9\r\n"
          ],
          "name": "stdout"
        }
      ]
    }
  ]
}